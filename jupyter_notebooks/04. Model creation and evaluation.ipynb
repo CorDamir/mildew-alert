{
  "cells": [
    {
      "cell_type": "markdown",
      "metadata": {
        "id": "0aStgWSO0E0E"
      },
      "source": [
        "# **ML MODEL CREATION AND EVALUATION**"
      ]
    },
    {
      "cell_type": "markdown",
      "metadata": {
        "id": "1eLEkw5O0ECa"
      },
      "source": [
        "## Objectives\n",
        "\n",
        "* Create a classification model that can distinguish healthy from infected leaves\n",
        "\n",
        "## Inputs\n",
        "\n",
        "* Prepared train, validation and test datasets\n",
        "  - outputs/dataset/train_X.npy\n",
        "  - outputs/dataset/train_y.npy\n",
        "  - outputs/dataset/validation.npy\n",
        "  - outputs/dataset/validation_y.npy\n",
        "  - outputs/dataset/test_X.npy\n",
        "  - outputs/dataset/test.npy\n",
        "\n",
        "## Outputs\n",
        "\n",
        "* Classification model\n",
        "  - outputs/model/powdery_mildew_alerter_v?.keras\n",
        "\n",
        "* Model evaluation performance\n",
        "  - outputs/model/evaluation.csv\n",
        "\n",
        "* Model summary and model training details images\n",
        "  - outputs/model/loss_function_plot.png\n",
        "  - outputs/model/accuracy_plot.png\n",
        "  - outputs/model/model_summary.png"
      ]
    },
    {
      "cell_type": "markdown",
      "metadata": {
        "id": "9uWZXH9LwoQg"
      },
      "source": [
        "---"
      ]
    },
    {
      "cell_type": "markdown",
      "metadata": {},
      "source": [
        "# Preparation for model fitting"
      ]
    },
    {
      "cell_type": "markdown",
      "metadata": {
        "id": "cqP-UeN-z3i2"
      },
      "source": [
        "## Change working directory"
      ]
    },
    {
      "cell_type": "code",
      "execution_count": null,
      "metadata": {
        "id": "TwHsQRWjz3i9",
        "outputId": "86849db3-cd2f-4cc5-ebb8-2d0caafa1a2c"
      },
      "outputs": [],
      "source": [
        "import os\n",
        "\n",
        "os.chdir(\"./..\")  # change to parent directory\n",
        "working_dir = os.getcwd()\n",
        "working_dir  # check output for correct directory"
      ]
    },
    {
      "cell_type": "markdown",
      "metadata": {
        "id": "-mavJ8DibrcQ"
      },
      "source": [
        "## Load prepared data"
      ]
    },
    {
      "cell_type": "code",
      "execution_count": null,
      "metadata": {},
      "outputs": [],
      "source": [
        "import numpy as np\n",
        "\n",
        "output_dataset = working_dir + \"/outputs/dataset\"\n",
        "train_X = np.load(output_dataset + \"/train_X.npy\")\n",
        "train_y = np.load(output_dataset +\"/train_y.npy\")\n",
        "validation_X = np.load(output_dataset + \"/validation_X.npy\")\n",
        "validation_y = np.load(output_dataset +\"/validation_y.npy\")\n",
        "test_X = np.load(output_dataset + \"/test_X.npy\")\n",
        "test_y = np.load(output_dataset +\"/test_y.npy\")"
      ]
    },
    {
      "cell_type": "markdown",
      "metadata": {},
      "source": [
        "## Pre-processing with encoder"
      ]
    },
    {
      "cell_type": "code",
      "execution_count": null,
      "metadata": {},
      "outputs": [],
      "source": [
        "from sklearn.preprocessing import LabelEncoder\n",
        "\n",
        "encoder = LabelEncoder()\n",
        "\n",
        "train_y_encoded = encoder.fit_transform(train_y)\n",
        "validation_y_encoded = encoder.transform(validation_y)\n",
        "test_y_encoded = encoder.transform(test_y)"
      ]
    },
    {
      "cell_type": "markdown",
      "metadata": {},
      "source": [
        "---"
      ]
    },
    {
      "cell_type": "markdown",
      "metadata": {
        "id": "ZY3l0-AxO93d"
      },
      "source": [
        "# Model"
      ]
    },
    {
      "cell_type": "markdown",
      "metadata": {},
      "source": [
        "## Model design\n",
        "  - input layer\n",
        "  - three convolution + max pooling layers\n",
        "  - flatten layer\n",
        "  - two dense layers with 35% dropout between them\n",
        "  - output layer\n",
        "  - adaptive moment estimation optimizer and binary crossentropy loss function as suggested by empirical performance"
      ]
    },
    {
      "cell_type": "code",
      "execution_count": null,
      "metadata": {},
      "outputs": [],
      "source": [
        "from keras.models import Sequential\n",
        "from keras.layers import Input, Conv2D, MaxPooling2D, Flatten, Dense, Dropout \n",
        "\n",
        "def create_model():\n",
        "    model = Sequential()\n",
        "\n",
        "    #input layer\n",
        "    model.add(Input(shape=(75, 75, 3)))\n",
        "\n",
        "    # convolution + maxpool layer 1 - 32 filters\n",
        "    model.add(\n",
        "        Conv2D(\n",
        "            filters=32,\n",
        "            kernel_size=(3,3),\n",
        "            activation=\"relu\"\n",
        "               )\n",
        "    )\n",
        "    model.add(MaxPooling2D(2, 2))\n",
        "\n",
        "    # convolution + maxpool layer 2 - 64 filters\n",
        "    model.add(\n",
        "        Conv2D(\n",
        "            filters=64,\n",
        "            kernel_size=(3,3),\n",
        "            activation=\"relu\"\n",
        "        )\n",
        "    )\n",
        "    model.add(MaxPooling2D(2, 2))\n",
        "\n",
        "    # convolution + maxpool layer 3 - 128 filters\n",
        "    model.add(\n",
        "        Conv2D(\n",
        "            filters=128,\n",
        "            kernel_size=(3,3),\n",
        "            activation=\"relu\"\n",
        "        )\n",
        "    )\n",
        "    model.add(MaxPooling2D(2, 2))\n",
        "\n",
        "    # flatten layer\n",
        "    model.add(Flatten())\n",
        "\n",
        "    #two dense layers with 35% dropout\n",
        "    model.add(Dense(256, activation=\"relu\"))\n",
        "    model.add(Dropout(0.35))\n",
        "    model.add(Dense(256, activation=\"relu\"))\n",
        "\n",
        "    # output layer\n",
        "    model.add(Dense(1, activation=\"sigmoid\"))\n",
        "\n",
        "    #specify optimizer, loss function and metric\n",
        "    model.compile(\n",
        "        optimizer=\"adam\",\n",
        "        loss=\"binary_crossentropy\",\n",
        "        metrics=[\"accuracy\"]\n",
        "    )\n",
        "\n",
        "    return model"
      ]
    },
    {
      "cell_type": "markdown",
      "metadata": {},
      "source": [
        "## Create the model"
      ]
    },
    {
      "cell_type": "code",
      "execution_count": null,
      "metadata": {},
      "outputs": [],
      "source": [
        "powdery_mildew_alerter = create_model()"
      ]
    },
    {
      "cell_type": "markdown",
      "metadata": {},
      "source": [
        "## Add early stopping logic"
      ]
    },
    {
      "cell_type": "markdown",
      "metadata": {},
      "source": [
        "Saving best model is also added. Change \"version\" variable to not overwrite saved model(s)"
      ]
    },
    {
      "cell_type": "code",
      "execution_count": null,
      "metadata": {},
      "outputs": [],
      "source": [
        "from keras.callbacks import EarlyStopping, ModelCheckpoint \n",
        "\n",
        "\n",
        "save_dir = working_dir + \"/outputs/model\"\n",
        "version = \"v1\"\n",
        "\n",
        "if not \"model\" in os.listdir(working_dir + \"/outputs\"):\n",
        "    os.makedirs(save_dir)\n",
        "\n",
        "early_stop_val_loss_patience_4 = EarlyStopping(monitor=\"val_loss\", patience=4)\n",
        "select_best_model = ModelCheckpoint(\n",
        "        f\"{save_dir}/powdery_mildew_alerter_{version}.keras\",\n",
        "        monitor=\"val_loss\",\n",
        "        save_best_only=True,\n",
        "        save_weights_only=False,\n",
        "        verbose=1\n",
        "    )"
      ]
    },
    {
      "cell_type": "markdown",
      "metadata": {},
      "source": [
        "## Fit data / train model"
      ]
    },
    {
      "cell_type": "code",
      "execution_count": null,
      "metadata": {},
      "outputs": [],
      "source": [
        "powdery_mildew_alerter.fit(\n",
        "    train_X,\n",
        "    train_y_encoded,\n",
        "    epochs=25,\n",
        "    verbose=1,\n",
        "    validation_data=(validation_X, validation_y_encoded),\n",
        "    callbacks=[early_stop_val_loss_patience_4, select_best_model]\n",
        "    )"
      ]
    },
    {
      "cell_type": "markdown",
      "metadata": {},
      "source": [
        "## Load best model"
      ]
    },
    {
      "cell_type": "code",
      "execution_count": null,
      "metadata": {},
      "outputs": [],
      "source": [
        "from keras.models import load_model\n",
        "\n",
        "\n",
        "best_model = load_model(f\"{save_dir}/powdery_mildew_alerter_{version}.keras\")"
      ]
    },
    {
      "cell_type": "markdown",
      "metadata": {},
      "source": [
        "## Evaluate performance"
      ]
    },
    {
      "cell_type": "markdown",
      "metadata": {},
      "source": [
        "Show structured evaluation performance and save to csv file"
      ]
    },
    {
      "cell_type": "code",
      "execution_count": null,
      "metadata": {},
      "outputs": [],
      "source": [
        "import pandas as pd\n",
        "\n",
        "evaluation = best_model.evaluate(test_X, test_y_encoded, verbose=1)\n",
        "\n",
        "eval_df = pd.DataFrame(\n",
        "    {\n",
        "        \"Model metric\": [\"Loss function rate\", \"Accuracy\"],\n",
        "        \"Performance (%)\": [x * 100 for x in evaluation]\n",
        "    }\n",
        ")\n",
        "eval_df.set_index(\"Model metric\", inplace=True)\n",
        "\n",
        "eval_df.to_csv(save_dir + \"/evaluation.csv\")\n",
        "eval_df"
      ]
    },
    {
      "cell_type": "markdown",
      "metadata": {},
      "source": [
        "Model has a 100% accuracy on train/validation sets and 99.88% on test set"
      ]
    },
    {
      "cell_type": "markdown",
      "metadata": {},
      "source": [
        "---"
      ]
    },
    {
      "cell_type": "markdown",
      "metadata": {},
      "source": [
        "# Generate model training detail visuals"
      ]
    },
    {
      "cell_type": "markdown",
      "metadata": {},
      "source": [
        "## Model summary"
      ]
    },
    {
      "cell_type": "code",
      "execution_count": null,
      "metadata": {},
      "outputs": [],
      "source": [
        "powdery_mildew_alerter.summary()"
      ]
    },
    {
      "cell_type": "markdown",
      "metadata": {},
      "source": [
        "## Learning curve"
      ]
    },
    {
      "cell_type": "markdown",
      "metadata": {},
      "source": [
        "Plot and save loss function and accuracy graphs"
      ]
    },
    {
      "cell_type": "code",
      "execution_count": null,
      "metadata": {},
      "outputs": [],
      "source": [
        "import pandas as pd\n",
        "from matplotlib import pyplot as plt\n",
        "from matplotlib import ticker\n",
        "\n",
        "\n",
        "data = pd.DataFrame(powdery_mildew_alerter.history.history)\n",
        "data.index += 1\n",
        "\n",
        "data[[\"loss\", \"val_loss\"]].plot()\n",
        "plt.title(\"Error (loss) function\")\n",
        "plt.legend(labels=[\"training set\", \"validation set\"])\n",
        "plt.xlabel(\"Epoch\")\n",
        "plt.gca().yaxis.set_major_formatter(ticker.FuncFormatter(lambda x, p: f\"{int(x * 100)}%\"))\n",
        "plt.show()\n",
        "plt.savefig(working_dir + \"/outputs/images/loss_function_plot.png\")\n",
        "\n",
        "data[[\"accuracy\", \"val_accuracy\"]].plot()\n",
        "plt.title(\"Accuracy\")\n",
        "plt.legend(labels=[\"training set\", \"validation set\"])\n",
        "plt.xlabel(\"Epoch\")\n",
        "plt.gca().yaxis.set_major_formatter(ticker.FuncFormatter(lambda x, p: f\"{int(x * 100)}%\"))\n",
        "plt.show()\n",
        "plt.savefig(working_dir + \"/outputs/images/accuracy_plot.png\")"
      ]
    },
    {
      "cell_type": "markdown",
      "metadata": {},
      "source": [
        "---"
      ]
    },
    {
      "cell_type": "markdown",
      "metadata": {},
      "source": [
        "# Create model predicting functionality"
      ]
    },
    {
      "cell_type": "markdown",
      "metadata": {},
      "source": []
    }
  ],
  "metadata": {
    "accelerator": "GPU",
    "colab": {
      "name": "Data Practitioner Jupyter Notebook.ipynb",
      "provenance": [],
      "toc_visible": true
    },
    "kernelspec": {
      "display_name": ".venv",
      "language": "python",
      "name": "python3"
    },
    "language_info": {
      "codemirror_mode": {
        "name": "ipython",
        "version": 3
      },
      "file_extension": ".py",
      "mimetype": "text/x-python",
      "name": "python",
      "nbconvert_exporter": "python",
      "pygments_lexer": "ipython3",
      "version": "3.12.8"
    },
    "orig_nbformat": 2
  },
  "nbformat": 4,
  "nbformat_minor": 2
}
