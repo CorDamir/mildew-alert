{
  "cells": [
    {
      "cell_type": "markdown",
      "metadata": {
        "id": "0aStgWSO0E0E"
      },
      "source": [
        "# **DATA VISUALIZATION**"
      ]
    },
    {
      "cell_type": "markdown",
      "metadata": {
        "id": "1eLEkw5O0ECa"
      },
      "source": [
        "## Objectives\n",
        "\n",
        "* Conduct a study for visual distinction of healthy and infected cherry leaves\n",
        "\n",
        "## Inputs\n",
        "\n",
        "* Healthy and infected cherry leaves images\n",
        "  - inputs/dataset/cherry-leaves/train\n",
        "  - inputs/dataset/cherry-leaves/validation\n",
        "  - inputs/dataset/cherry-leaves/test\n",
        "\n",
        "## Outputs\n",
        "\n",
        "* Average, variability and difference images\n",
        "  - outputs/images/avg_varia_healthy.png\n",
        "  - outpuoutputs/images/avg_varia_powdery_mildew.png\n",
        "  - outputs/images/difference_image.png\n",
        "\n",
        "* Training dataset as numpy arrays\n",
        "  - outputs/dataset/train_X.npy\n",
        "  - outputs/dataset/train_y.npy"
      ]
    },
    {
      "cell_type": "markdown",
      "metadata": {
        "id": "9uWZXH9LwoQg"
      },
      "source": [
        "---"
      ]
    },
    {
      "cell_type": "markdown",
      "metadata": {
        "id": "cqP-UeN-z3i2"
      },
      "source": [
        "# Change working directory"
      ]
    },
    {
      "cell_type": "code",
      "execution_count": null,
      "metadata": {},
      "outputs": [],
      "source": [
        "import os\n",
        "\n",
        "os.chdir(\"./..\")  # change to parent directory\n",
        "working_dir = os.getcwd()\n",
        "working_dir  # check output for correct directory"
      ]
    },
    {
      "cell_type": "markdown",
      "metadata": {
        "id": "-mavJ8DibrcQ"
      },
      "source": [
        "# Set dataset and output directory paths"
      ]
    },
    {
      "cell_type": "code",
      "execution_count": null,
      "metadata": {},
      "outputs": [],
      "source": [
        "data_dir = working_dir + \"/inputs/dataset/cherry-leaves\"\n",
        "train_dir = data_dir + \"/train\"\n",
        "validation_dir = data_dir + \"/validation\"\n",
        "test_dir = data_dir + \"/test\"\n",
        "output_images = working_dir + \"/outputs/images\"\n",
        "output_dataset = working_dir + \"/outputs/dataset\"\n",
        "if not \"images\" in os.listdir(working_dir + \"/outputs\"):\n",
        "    os.makedirs(output_images)\n",
        "if not \"dataset\" in os.listdir(working_dir + \"/outputs\"):\n",
        "    os.makedirs(output_dataset)"
      ]
    },
    {
      "cell_type": "markdown",
      "metadata": {
        "id": "ZY3l0-AxO93d"
      },
      "source": [
        "---"
      ]
    },
    {
      "cell_type": "markdown",
      "metadata": {
        "id": "uFQo3ycuO-v6"
      },
      "source": [
        "# Load images as array data"
      ]
    },
    {
      "cell_type": "markdown",
      "metadata": {},
      "source": [
        "We already know all images in dataset are 200x200 pixels in rgb format giving the (200, 200, 3) shape. For the project they will be resized to 75x75 pixels."
      ]
    },
    {
      "cell_type": "markdown",
      "metadata": {},
      "source": [
        "Create functions to load training images as array data"
      ]
    },
    {
      "cell_type": "code",
      "execution_count": null,
      "metadata": {},
      "outputs": [],
      "source": [
        "from keras.preprocessing import image\n",
        "import numpy as np\n",
        "from matplotlib import pyplot as plt\n",
        "\n",
        "\n",
        "def load_resize_image_as_array(img_path, width, height):\n",
        "    img = image.load_img(img_path, target_size=(width, height))\n",
        "    return image.img_to_array(img) / 255\n",
        "\n",
        "\n",
        "# Remove commented lines to limit image loading to 50 images per category\n",
        "\n",
        "def images_to_array(dir, width, height):\n",
        "    X = np.array([])\n",
        "    y = np.array([])\n",
        "\n",
        "    for category in os.listdir(dir):\n",
        "        # max_images = 0\n",
        "        for img in os.listdir(dir + \"/\" + category):\n",
        "            # if max_images == 50:\n",
        "            #     break\n",
        "            #  max_images += 1\n",
        "            X = np.append(\n",
        "                    X, \n",
        "                    load_resize_image_as_array(\n",
        "                            dir + \"/\" + category + \"/\" + img,\n",
        "                            width,\n",
        "                            height\n",
        "                            )\n",
        "                ).reshape(-1, width, height, 3)\n",
        "            y = np.append(y, category)\n",
        "\n",
        "    return X, y"
      ]
    },
    {
      "cell_type": "markdown",
      "metadata": {},
      "source": [
        "Training set will be used to generate average images and image variability plots."
      ]
    },
    {
      "cell_type": "code",
      "execution_count": null,
      "metadata": {},
      "outputs": [],
      "source": [
        "X, y = images_to_array(train_dir, 75, 75)"
      ]
    },
    {
      "cell_type": "markdown",
      "metadata": {},
      "source": [
        "We will also save training images data that's now in arrays compatible with future use for machine learning"
      ]
    },
    {
      "cell_type": "code",
      "execution_count": null,
      "metadata": {},
      "outputs": [],
      "source": [
        "np.save(\n",
        "    f\"{working_dir}/outputs/dataset/train_X.npy\",\n",
        "    X\n",
        "    )\n",
        "\n",
        "np.save(\n",
        "    f\"{working_dir}/outputs/dataset/train_y.npy\",\n",
        "    y\n",
        ")"
      ]
    },
    {
      "cell_type": "markdown",
      "metadata": {},
      "source": [
        "# Average image and image variability for healthy and infected leaves"
      ]
    },
    {
      "cell_type": "markdown",
      "metadata": {},
      "source": [
        "Create function that returns average image and image variability for categories"
      ]
    },
    {
      "cell_type": "code",
      "execution_count": null,
      "metadata": {},
      "outputs": [],
      "source": [
        "def get_average_and_variability_images():\n",
        "    results_arr = []\n",
        "\n",
        "    for category in np.unique(y):\n",
        "        category_arr = X[np.where(y == category)]\n",
        "        average_image = np.mean(category_arr, axis=0)\n",
        "        variability_image = np.std(category_arr, axis=0)\n",
        "        results_arr.append([average_image, variability_image, category])\n",
        "\n",
        "    return results_arr"
      ]
    },
    {
      "cell_type": "markdown",
      "metadata": {},
      "source": [
        "Store images and category in an array"
      ]
    },
    {
      "cell_type": "code",
      "execution_count": null,
      "metadata": {},
      "outputs": [],
      "source": [
        "results = get_average_and_variability_images()"
      ]
    },
    {
      "cell_type": "markdown",
      "metadata": {},
      "source": [
        "Create display function for average and variability images with option to save"
      ]
    },
    {
      "cell_type": "code",
      "execution_count": null,
      "metadata": {},
      "outputs": [],
      "source": [
        "def display_average_and_variability_images(results, save=False):\n",
        "    for i in range(0, len(results)):\n",
        "        category = results[i][2]\n",
        "        avg_img = results[i][0]\n",
        "        varia_img = results[i][1]\n",
        "\n",
        "        fig, axes = plt.subplots(nrows=1, ncols=2, figsize=(10, 10))\n",
        "\n",
        "        axes[0].set_title(f\"{category} leaf average image\")\n",
        "        axes[0].imshow(avg_img)\n",
        "\n",
        "        axes[1].set_title(f\"{category} leaf variability image\")\n",
        "        axes[1].imshow(varia_img)\n",
        "\n",
        "        plt.tight_layout()\n",
        "\n",
        "        if save:\n",
        "            plt.savefig(output_images + \"/avg_varia_\" + category, bbox_inches=\"tight\", pad_inches=0.3)\n",
        "\n",
        "    fig.show()"
      ]
    },
    {
      "cell_type": "markdown",
      "metadata": {},
      "source": [
        "Display average and variability images"
      ]
    },
    {
      "cell_type": "code",
      "execution_count": null,
      "metadata": {},
      "outputs": [],
      "source": [
        "display_average_and_variability_images(results, save=True)"
      ]
    },
    {
      "cell_type": "markdown",
      "metadata": {},
      "source": [
        "Powdery mildew leaves average image is clearly brighter that it's counterpart due to mildew on it. Variability image for powdery mildew leaves shows much higher variance towards center of the image for the same reason."
      ]
    },
    {
      "cell_type": "markdown",
      "metadata": {},
      "source": [
        "Let's visualize the difference in average images"
      ]
    },
    {
      "cell_type": "code",
      "execution_count": null,
      "metadata": {},
      "outputs": [],
      "source": [
        "def display_average_images_difference(average_healthy, average_mildew, save=False):\n",
        "    fig, axes = plt.subplots(nrows=1, ncols=3, figsize=(15,10))\n",
        "\n",
        "    axes[0].set_title(\"Healthy leaf average image\")\n",
        "    axes[0].imshow(average_healthy)\n",
        "\n",
        "    axes[1].set_title(\"Mildew powder leaf average image\")\n",
        "    axes[1].imshow(average_mildew)\n",
        "\n",
        "    axes[2].set_title(\"Difference image\")\n",
        "    axes[2].imshow(np.abs(average_healthy - average_mildew))\n",
        "\n",
        "    if save:\n",
        "        plt.savefig(output_images + \"/difference_image\", bbox_inches=\"tight\", pad_inches=0.3)\n",
        "\n",
        "    fig.show()\n"
      ]
    },
    {
      "cell_type": "code",
      "execution_count": null,
      "metadata": {},
      "outputs": [],
      "source": [
        "display_average_images_difference(results[0][0], results[1][0], save=True)"
      ]
    },
    {
      "cell_type": "markdown",
      "metadata": {},
      "source": [
        "Difference image clearly indicates leaf surface changes when infected"
      ]
    },
    {
      "cell_type": "markdown",
      "metadata": {},
      "source": [
        "---"
      ]
    },
    {
      "cell_type": "markdown",
      "metadata": {
        "id": "ltNetd085qHf"
      },
      "source": [
        "# Conclusion and next steps"
      ]
    },
    {
      "cell_type": "markdown",
      "metadata": {},
      "source": [
        "Average image difference between healthy and infected leaves is clearly visible and detectable. We can be optimistic in designing a model that can classify infected leaves."
      ]
    }
  ],
  "metadata": {
    "accelerator": "GPU",
    "colab": {
      "name": "Data Practitioner Jupyter Notebook.ipynb",
      "provenance": [],
      "toc_visible": true
    },
    "kernelspec": {
      "display_name": ".venv",
      "language": "python",
      "name": "python3"
    },
    "language_info": {
      "codemirror_mode": {
        "name": "ipython",
        "version": 3
      },
      "file_extension": ".py",
      "mimetype": "text/x-python",
      "name": "python",
      "nbconvert_exporter": "python",
      "pygments_lexer": "ipython3",
      "version": "3.12.8"
    },
    "orig_nbformat": 2
  },
  "nbformat": 4,
  "nbformat_minor": 2
}
