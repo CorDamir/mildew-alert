{
  "cells": [
    {
      "cell_type": "markdown",
      "metadata": {
        "id": "0aStgWSO0E0E"
      },
      "source": [
        "# **ML MODEL CREATION AND EVALUATION**"
      ]
    },
    {
      "cell_type": "markdown",
      "metadata": {
        "id": "1eLEkw5O0ECa"
      },
      "source": [
        "## Objectives\n",
        "\n",
        "* Create a classification model that can distinguish healthy from infected leaves\n",
        "\n",
        "## Inputs\n",
        "\n",
        "* Prepared train, validation and test datasets\n",
        "  - outputs/dataset/test_X.npy\n",
        "  - outputs/dataset/test_y.npy\n",
        "  - outputs/dataset/validation.npy\n",
        "  - outputs/dataset/validation_y.npy\n",
        "  - outputs/dataset/validation_X.npy\n",
        "  - outputs/dataset/validation.npy\n",
        "\n",
        "## Outputs\n",
        "\n",
        "* Classification model\n",
        "  - outputs/model/powdery_mildew_alerter_v?.keras "
      ]
    },
    {
      "cell_type": "markdown",
      "metadata": {
        "id": "9uWZXH9LwoQg"
      },
      "source": [
        "---"
      ]
    },
    {
      "cell_type": "markdown",
      "metadata": {},
      "source": [
        "# Preparation for model design"
      ]
    },
    {
      "cell_type": "markdown",
      "metadata": {
        "id": "cqP-UeN-z3i2"
      },
      "source": [
        "## Change working directory"
      ]
    },
    {
      "cell_type": "code",
      "execution_count": 2,
      "metadata": {
        "id": "TwHsQRWjz3i9",
        "outputId": "86849db3-cd2f-4cc5-ebb8-2d0caafa1a2c"
      },
      "outputs": [
        {
          "data": {
            "text/plain": [
              "'d:\\\\vscode-projects\\\\mildew-alert'"
            ]
          },
          "execution_count": 2,
          "metadata": {},
          "output_type": "execute_result"
        }
      ],
      "source": [
        "import os\n",
        "\n",
        "os.chdir(\"./..\")  # change to parent directory\n",
        "working_dir = os.getcwd()\n",
        "working_dir  # check output for correct directory"
      ]
    },
    {
      "cell_type": "markdown",
      "metadata": {
        "id": "-mavJ8DibrcQ"
      },
      "source": [
        "## Load prepared data"
      ]
    },
    {
      "cell_type": "code",
      "execution_count": 3,
      "metadata": {},
      "outputs": [],
      "source": [
        "import numpy as np\n",
        "\n",
        "output_dataset = working_dir + \"/outputs/dataset\"\n",
        "train_X = np.load(output_dataset + \"/train_X.npy\")\n",
        "train_y = np.load(output_dataset +\"/train_y.npy\")\n",
        "validation_X = np.load(output_dataset + \"/train_X.npy\")\n",
        "validation_y = np.load(output_dataset +\"/train_y.npy\")\n",
        "test_X = np.load(output_dataset + \"/train_X.npy\")\n",
        "test_y = np.load(output_dataset +\"/train_y.npy\")"
      ]
    },
    {
      "cell_type": "markdown",
      "metadata": {},
      "source": [
        "## Pre-processing with encoder"
      ]
    },
    {
      "cell_type": "code",
      "execution_count": 4,
      "metadata": {},
      "outputs": [],
      "source": [
        "from sklearn.preprocessing import LabelEncoder\n",
        "\n",
        "encoder = LabelEncoder()\n",
        "\n",
        "train_y_encoded = encoder.fit_transform(train_y)\n",
        "validation_y_encoded = encoder.transform(validation_y)\n",
        "test_y_encoded = encoder.transform(test_y)"
      ]
    },
    {
      "cell_type": "markdown",
      "metadata": {},
      "source": [
        "---"
      ]
    },
    {
      "cell_type": "markdown",
      "metadata": {
        "id": "ZY3l0-AxO93d"
      },
      "source": [
        "# Model"
      ]
    },
    {
      "cell_type": "markdown",
      "metadata": {},
      "source": [
        "## Model design\n",
        "  - input layer\n",
        "  - three convolution + max pooling layers\n",
        "  - flatten layer\n",
        "  - two dense layers with 35% dropout between them\n",
        "  - output layer\n",
        "  - adaptive moment estimation optimizer and binary crossentropy loss function as suggested by empirical performance"
      ]
    },
    {
      "cell_type": "code",
      "execution_count": null,
      "metadata": {},
      "outputs": [],
      "source": [
        "from keras.models import Sequential\n",
        "from keras.layers import Input, Conv2D, MaxPooling2D, Flatten, Dense, Dropout \n",
        "\n",
        "def create_model():\n",
        "    model = Sequential()\n",
        "\n",
        "    #input layer\n",
        "    model.add(Input(shape=(75, 75, 3)))\n",
        "\n",
        "    # convolution + maxpool layer 1 - 32 filters\n",
        "    model.add(\n",
        "        Conv2D(\n",
        "            filters=32,\n",
        "            kernel_size=(3,3),\n",
        "            activation=\"relu\"\n",
        "               )\n",
        "    )\n",
        "    model.add(MaxPooling2D(2, 2))\n",
        "\n",
        "    # convolution + maxpool layer 2 - 64 filters\n",
        "    model.add(\n",
        "        Conv2D(\n",
        "            filters=64,\n",
        "            kernel_size=(3,3),\n",
        "            activation=\"relu\"\n",
        "        )\n",
        "    )\n",
        "    model.add(MaxPooling2D(2, 2))\n",
        "\n",
        "    # convolution + maxpool layer 3 - 128 filters\n",
        "    model.add(\n",
        "        Conv2D(\n",
        "            filters=128,\n",
        "            kernel_size=(3,3),\n",
        "            activation=\"relu\"\n",
        "        )\n",
        "    )\n",
        "    model.add(MaxPooling2D(2, 2))\n",
        "\n",
        "    # flatten layer\n",
        "    model.add(Flatten())\n",
        "\n",
        "    #two dense layers with 35% dropout\n",
        "    model.add(Dense(256, activation=\"relu\"))\n",
        "    model.add(Dropout(0.35))\n",
        "    model.add(Dense(256, activation=\"relu\"))\n",
        "\n",
        "    # output layer\n",
        "    model.add(Dense(1, activation=\"sigmoid\"))\n",
        "\n",
        "    #specify optimizer, loss function and metric\n",
        "    model.compile(\n",
        "        optimizer=\"adam\",\n",
        "        loss=\"binary_crossentropy\",\n",
        "        metrics=[\"accuracy\"]\n",
        "    )\n",
        "\n",
        "    return model"
      ]
    },
    {
      "cell_type": "markdown",
      "metadata": {},
      "source": [
        "## Create the model"
      ]
    },
    {
      "cell_type": "code",
      "execution_count": 8,
      "metadata": {},
      "outputs": [],
      "source": [
        "powdery_mildew_alerter = create_model()"
      ]
    },
    {
      "cell_type": "markdown",
      "metadata": {},
      "source": [
        "## Fit data / train model"
      ]
    },
    {
      "cell_type": "code",
      "execution_count": 9,
      "metadata": {},
      "outputs": [
        {
          "name": "stdout",
          "output_type": "stream",
          "text": [
            "Epoch 1/7\n",
            "\u001b[1m92/92\u001b[0m \u001b[32m━━━━━━━━━━━━━━━━━━━━\u001b[0m\u001b[37m\u001b[0m \u001b[1m10s\u001b[0m 92ms/step - accuracy: 0.7415 - loss: 0.4544 - val_accuracy: 0.9908 - val_loss: 0.0447\n",
            "Epoch 2/7\n",
            "\u001b[1m92/92\u001b[0m \u001b[32m━━━━━━━━━━━━━━━━━━━━\u001b[0m\u001b[37m\u001b[0m \u001b[1m8s\u001b[0m 88ms/step - accuracy: 0.9712 - loss: 0.0890 - val_accuracy: 0.9929 - val_loss: 0.0184\n",
            "Epoch 3/7\n",
            "\u001b[1m92/92\u001b[0m \u001b[32m━━━━━━━━━━━━━━━━━━━━\u001b[0m\u001b[37m\u001b[0m \u001b[1m9s\u001b[0m 102ms/step - accuracy: 0.9946 - loss: 0.0229 - val_accuracy: 0.9939 - val_loss: 0.0179\n",
            "Epoch 4/7\n",
            "\u001b[1m92/92\u001b[0m \u001b[32m━━━━━━━━━━━━━━━━━━━━\u001b[0m\u001b[37m\u001b[0m \u001b[1m10s\u001b[0m 104ms/step - accuracy: 0.9971 - loss: 0.0086 - val_accuracy: 0.9487 - val_loss: 0.1337\n",
            "Epoch 5/7\n",
            "\u001b[1m92/92\u001b[0m \u001b[32m━━━━━━━━━━━━━━━━━━━━\u001b[0m\u001b[37m\u001b[0m \u001b[1m10s\u001b[0m 103ms/step - accuracy: 0.9906 - loss: 0.0401 - val_accuracy: 0.9983 - val_loss: 0.0046\n",
            "Epoch 6/7\n",
            "\u001b[1m92/92\u001b[0m \u001b[32m━━━━━━━━━━━━━━━━━━━━\u001b[0m\u001b[37m\u001b[0m \u001b[1m10s\u001b[0m 105ms/step - accuracy: 0.9968 - loss: 0.0129 - val_accuracy: 0.9997 - val_loss: 9.9291e-04\n",
            "Epoch 7/7\n",
            "\u001b[1m92/92\u001b[0m \u001b[32m━━━━━━━━━━━━━━━━━━━━\u001b[0m\u001b[37m\u001b[0m \u001b[1m10s\u001b[0m 104ms/step - accuracy: 1.0000 - loss: 4.5322e-04 - val_accuracy: 1.0000 - val_loss: 1.8276e-04\n"
          ]
        },
        {
          "data": {
            "text/plain": [
              "<keras.src.callbacks.history.History at 0x1fe29d10410>"
            ]
          },
          "execution_count": 9,
          "metadata": {},
          "output_type": "execute_result"
        }
      ],
      "source": [
        "powdery_mildew_alerter.fit(\n",
        "    train_X,\n",
        "    train_y_encoded,\n",
        "    epochs=7,\n",
        "    verbose=1,\n",
        "    validation_data=(validation_X, validation_y_encoded)\n",
        "    )"
      ]
    },
    {
      "cell_type": "markdown",
      "metadata": {},
      "source": [
        "## Evaluate performance"
      ]
    },
    {
      "cell_type": "code",
      "execution_count": 10,
      "metadata": {},
      "outputs": [
        {
          "name": "stdout",
          "output_type": "stream",
          "text": [
            "\u001b[1m92/92\u001b[0m \u001b[32m━━━━━━━━━━━━━━━━━━━━\u001b[0m\u001b[37m\u001b[0m \u001b[1m2s\u001b[0m 19ms/step - accuracy: 1.0000 - loss: 2.0336e-04\n"
          ]
        },
        {
          "data": {
            "text/plain": [
              "[0.00018275903130415827, 1.0]"
            ]
          },
          "execution_count": 10,
          "metadata": {},
          "output_type": "execute_result"
        }
      ],
      "source": [
        "powdery_mildew_alerter.evaluate(test_X, test_y_encoded, verbose=1)"
      ]
    },
    {
      "cell_type": "markdown",
      "metadata": {},
      "source": [
        "Model has a 100% accuracy on validation and test sets"
      ]
    },
    {
      "cell_type": "markdown",
      "metadata": {},
      "source": [
        "## Save model (change version variable if needed)"
      ]
    },
    {
      "cell_type": "code",
      "execution_count": 12,
      "metadata": {},
      "outputs": [],
      "source": [
        "version = \"v1\"\n",
        "save_dir = working_dir + \"/outputs/model\"\n",
        "\n",
        "if not \"model\" in os.listdir(working_dir + \"/outputs\"):\n",
        "    os.makedirs(save_dir)\n",
        "\n",
        "powdery_mildew_alerter.save(f\"{save_dir}/powdery_mildew_alerter_{version}.keras\")"
      ]
    },
    {
      "cell_type": "markdown",
      "metadata": {},
      "source": [
        "---"
      ]
    },
    {
      "cell_type": "markdown",
      "metadata": {},
      "source": [
        "# Generate model evaluation visuals"
      ]
    },
    {
      "cell_type": "markdown",
      "metadata": {},
      "source": [
        "---"
      ]
    }
  ],
  "metadata": {
    "accelerator": "GPU",
    "colab": {
      "name": "Data Practitioner Jupyter Notebook.ipynb",
      "provenance": [],
      "toc_visible": true
    },
    "kernelspec": {
      "display_name": ".venv",
      "language": "python",
      "name": "python3"
    },
    "language_info": {
      "codemirror_mode": {
        "name": "ipython",
        "version": 3
      },
      "file_extension": ".py",
      "mimetype": "text/x-python",
      "name": "python",
      "nbconvert_exporter": "python",
      "pygments_lexer": "ipython3",
      "version": "3.12.8"
    },
    "orig_nbformat": 2
  },
  "nbformat": 4,
  "nbformat_minor": 2
}
