{
  "cells": [
    {
      "cell_type": "markdown",
      "metadata": {
        "id": "0aStgWSO0E0E"
      },
      "source": [
        "# **ML MODEL CREATION AND EVALUATION**"
      ]
    },
    {
      "cell_type": "markdown",
      "metadata": {
        "id": "1eLEkw5O0ECa"
      },
      "source": [
        "## Objectives\n",
        "\n",
        "* Create a classification model that can distinguish healthy from infected leaves\n",
        "\n",
        "## Inputs\n",
        "\n",
        "* Prepared train, validation and test datasets\n",
        "  - outputs/dataset/train_X.npy\n",
        "  - outputs/dataset/train_y.npy\n",
        "  - outputs/dataset/validation.npy\n",
        "  - outputs/dataset/validation_y.npy\n",
        "  - outputs/dataset/test_X.npy\n",
        "  - outputs/dataset/test.npy\n",
        "\n",
        "## Outputs\n",
        "\n",
        "* Classification model\n",
        "  - outputs/model/powdery_mildew_alerter_v?.keras\n",
        "\n",
        "* Model evaluation performance\n",
        "  - outputs/model/evaluation.csv\n",
        "\n",
        "* Model summary and model training details images\n",
        "  - outputs/model/loss_function_plot.png\n",
        "  - outputs/model/accuracy_plot.png\n",
        "  - outputs/model/model_summary.png"
      ]
    },
    {
      "cell_type": "markdown",
      "metadata": {
        "id": "9uWZXH9LwoQg"
      },
      "source": [
        "---"
      ]
    },
    {
      "cell_type": "markdown",
      "metadata": {},
      "source": [
        "# Preparation for model fitting"
      ]
    },
    {
      "cell_type": "markdown",
      "metadata": {
        "id": "cqP-UeN-z3i2"
      },
      "source": [
        "## Change working directory"
      ]
    },
    {
      "cell_type": "code",
      "execution_count": null,
      "metadata": {
        "id": "TwHsQRWjz3i9",
        "outputId": "86849db3-cd2f-4cc5-ebb8-2d0caafa1a2c"
      },
      "outputs": [],
      "source": [
        "import os\n",
        "\n",
        "os.chdir(\"./..\")  # change to parent directory\n",
        "working_dir = os.getcwd()\n",
        "working_dir  # check output for correct directory"
      ]
    },
    {
      "cell_type": "markdown",
      "metadata": {
        "id": "-mavJ8DibrcQ"
      },
      "source": [
        "## Load prepared data"
      ]
    },
    {
      "cell_type": "code",
      "execution_count": null,
      "metadata": {},
      "outputs": [],
      "source": [
        "import numpy as np\n",
        "\n",
        "output_dataset = working_dir + \"/outputs/dataset\"\n",
        "train_X = np.load(output_dataset + \"/train_X.npy\")\n",
        "train_y = np.load(output_dataset +\"/train_y.npy\")\n",
        "validation_X = np.load(output_dataset + \"/validation_X.npy\")\n",
        "validation_y = np.load(output_dataset +\"/validation_y.npy\")\n",
        "test_X = np.load(output_dataset + \"/test_X.npy\")\n",
        "test_y = np.load(output_dataset +\"/test_y.npy\")"
      ]
    },
    {
      "cell_type": "markdown",
      "metadata": {},
      "source": [
        "## Pre-processing with encoder"
      ]
    },
    {
      "cell_type": "code",
      "execution_count": null,
      "metadata": {},
      "outputs": [],
      "source": [
        "from sklearn.preprocessing import LabelEncoder\n",
        "\n",
        "encoder = LabelEncoder()\n",
        "\n",
        "train_y_encoded = encoder.fit_transform(train_y)\n",
        "validation_y_encoded = encoder.transform(validation_y)\n",
        "test_y_encoded = encoder.transform(test_y)"
      ]
    },
    {
      "cell_type": "markdown",
      "metadata": {},
      "source": [
        "---"
      ]
    },
    {
      "cell_type": "markdown",
      "metadata": {
        "id": "ZY3l0-AxO93d"
      },
      "source": [
        "# Model"
      ]
    },
    {
      "cell_type": "markdown",
      "metadata": {},
      "source": [
        "## Model design\n",
        "  - input layer\n",
        "  - three convolution + max pooling layers\n",
        "  - flatten layer\n",
        "  - two dense layers with 35% dropout between them\n",
        "  - output layer\n",
        "  - adaptive moment estimation optimizer and binary crossentropy loss function as suggested by empirical performance"
      ]
    },
    {
      "cell_type": "code",
      "execution_count": null,
      "metadata": {},
      "outputs": [],
      "source": [
        "from keras.models import Sequential\n",
        "from keras.layers import Input, Conv2D, MaxPooling2D, Flatten, Dense, Dropout \n",
        "\n",
        "def create_model():\n",
        "    model = Sequential()\n",
        "\n",
        "    #input layer\n",
        "    model.add(Input(shape=(75, 75, 3)))\n",
        "\n",
        "    # convolution + maxpool layer 1 - 32 filters\n",
        "    model.add(\n",
        "        Conv2D(\n",
        "            filters=32,\n",
        "            kernel_size=(3,3),\n",
        "            activation=\"relu\"\n",
        "               )\n",
        "    )\n",
        "    model.add(MaxPooling2D(2, 2))\n",
        "\n",
        "    # convolution + maxpool layer 2 - 64 filters\n",
        "    model.add(\n",
        "        Conv2D(\n",
        "            filters=64,\n",
        "            kernel_size=(3,3),\n",
        "            activation=\"relu\"\n",
        "        )\n",
        "    )\n",
        "    model.add(MaxPooling2D(2, 2))\n",
        "\n",
        "    # convolution + maxpool layer 3 - 128 filters\n",
        "    model.add(\n",
        "        Conv2D(\n",
        "            filters=128,\n",
        "            kernel_size=(3,3),\n",
        "            activation=\"relu\"\n",
        "        )\n",
        "    )\n",
        "    model.add(MaxPooling2D(2, 2))\n",
        "\n",
        "    # flatten layer\n",
        "    model.add(Flatten())\n",
        "\n",
        "    #two dense layers with 35% dropout\n",
        "    model.add(Dense(256, activation=\"relu\"))\n",
        "    model.add(Dropout(0.35))\n",
        "    model.add(Dense(256, activation=\"relu\"))\n",
        "\n",
        "    # output layer\n",
        "    model.add(Dense(1, activation=\"sigmoid\"))\n",
        "\n",
        "    #specify optimizer, loss function and metric\n",
        "    model.compile(\n",
        "        optimizer=\"adam\",\n",
        "        loss=\"binary_crossentropy\",\n",
        "        metrics=[\"accuracy\"]\n",
        "    )\n",
        "\n",
        "    return model"
      ]
    },
    {
      "cell_type": "markdown",
      "metadata": {},
      "source": [
        "## Create the model"
      ]
    },
    {
      "cell_type": "code",
      "execution_count": null,
      "metadata": {},
      "outputs": [],
      "source": [
        "powdery_mildew_alerter = create_model()"
      ]
    },
    {
      "cell_type": "markdown",
      "metadata": {},
      "source": [
        "## Add early stopping logic"
      ]
    },
    {
      "cell_type": "markdown",
      "metadata": {},
      "source": [
        "Saving best model is also added. Change \"version\" variable to not overwrite saved model(s)"
      ]
    },
    {
      "cell_type": "code",
      "execution_count": null,
      "metadata": {},
      "outputs": [],
      "source": [
        "from keras.callbacks import EarlyStopping, ModelCheckpoint \n",
        "\n",
        "\n",
        "save_dir = working_dir + \"/outputs/model\"\n",
        "version = \"v1\"\n",
        "\n",
        "if not \"model\" in os.listdir(working_dir + \"/outputs\"):\n",
        "    os.makedirs(save_dir)\n",
        "\n",
        "early_stop_val_loss_patience_4 = EarlyStopping(monitor=\"val_loss\", patience=4)\n",
        "select_best_model = ModelCheckpoint(\n",
        "        f\"{save_dir}/powdery_mildew_alerter_{version}.keras\",\n",
        "        monitor=\"val_loss\",\n",
        "        save_best_only=True,\n",
        "        save_weights_only=False,\n",
        "        verbose=1\n",
        "    )"
      ]
    },
    {
      "cell_type": "markdown",
      "metadata": {},
      "source": [
        "## Fit data / train model"
      ]
    },
    {
      "cell_type": "code",
      "execution_count": null,
      "metadata": {},
      "outputs": [],
      "source": [
        "powdery_mildew_alerter.fit(\n",
        "    train_X,\n",
        "    train_y_encoded,\n",
        "    epochs=25,\n",
        "    verbose=1,\n",
        "    validation_data=(validation_X, validation_y_encoded),\n",
        "    callbacks=[early_stop_val_loss_patience_4, select_best_model]\n",
        "    )"
      ]
    },
    {
      "cell_type": "markdown",
      "metadata": {},
      "source": [
        "## Load best model"
      ]
    },
    {
      "cell_type": "code",
      "execution_count": null,
      "metadata": {},
      "outputs": [],
      "source": [
        "from keras.models import load_model\n",
        "\n",
        "\n",
        "best_model = load_model(f\"{save_dir}/powdery_mildew_alerter_{version}.keras\")"
      ]
    },
    {
      "cell_type": "markdown",
      "metadata": {},
      "source": [
        "## Evaluate performance"
      ]
    },
    {
      "cell_type": "markdown",
      "metadata": {},
      "source": [
        "Show structured evaluation performance and save to csv file"
      ]
    },
    {
      "cell_type": "code",
      "execution_count": 68,
      "metadata": {},
      "outputs": [
        {
          "name": "stdout",
          "output_type": "stream",
          "text": [
            "\u001b[1m27/27\u001b[0m \u001b[32m━━━━━━━━━━━━━━━━━━━━\u001b[0m\u001b[37m\u001b[0m \u001b[1m1s\u001b[0m 22ms/step - accuracy: 0.9977 - loss: 0.0647\n"
          ]
        },
        {
          "data": {
            "text/html": [
              "<div>\n",
              "<style scoped>\n",
              "    .dataframe tbody tr th:only-of-type {\n",
              "        vertical-align: middle;\n",
              "    }\n",
              "\n",
              "    .dataframe tbody tr th {\n",
              "        vertical-align: top;\n",
              "    }\n",
              "\n",
              "    .dataframe thead th {\n",
              "        text-align: right;\n",
              "    }\n",
              "</style>\n",
              "<table border=\"1\" class=\"dataframe\">\n",
              "  <thead>\n",
              "    <tr style=\"text-align: right;\">\n",
              "      <th></th>\n",
              "      <th>Performance (%)</th>\n",
              "    </tr>\n",
              "    <tr>\n",
              "      <th>Model metric</th>\n",
              "      <th></th>\n",
              "    </tr>\n",
              "  </thead>\n",
              "  <tbody>\n",
              "    <tr>\n",
              "      <th>Loss function rate</th>\n",
              "      <td>3.289106</td>\n",
              "    </tr>\n",
              "    <tr>\n",
              "      <th>Accuracy</th>\n",
              "      <td>99.881518</td>\n",
              "    </tr>\n",
              "  </tbody>\n",
              "</table>\n",
              "</div>"
            ],
            "text/plain": [
              "                    Performance (%)\n",
              "Model metric                       \n",
              "Loss function rate         3.289106\n",
              "Accuracy                  99.881518"
            ]
          },
          "execution_count": 68,
          "metadata": {},
          "output_type": "execute_result"
        }
      ],
      "source": [
        "import pandas as pd\n",
        "\n",
        "evaluation = best_model.evaluate(test_X, test_y_encoded, verbose=1)\n",
        "\n",
        "eval_df = pd.DataFrame(\n",
        "    {\n",
        "        \"Model metric\": [\"Loss function rate\", \"Accuracy\"],\n",
        "        \"Performance (%)\": [x * 100 for x in evaluation]\n",
        "    }\n",
        ")\n",
        "eval_df.set_index(\"Model metric\", inplace=True)\n",
        "\n",
        "eval_df.to_csv(save_dir + \"/evaluation.csv\")\n",
        "eval_df"
      ]
    },
    {
      "cell_type": "markdown",
      "metadata": {},
      "source": [
        "Model has a 100% accuracy on train/validation sets and 99.88% on test set"
      ]
    },
    {
      "cell_type": "markdown",
      "metadata": {},
      "source": [
        "---"
      ]
    },
    {
      "cell_type": "markdown",
      "metadata": {},
      "source": [
        "# Generate model training detail visuals"
      ]
    },
    {
      "cell_type": "markdown",
      "metadata": {},
      "source": [
        "## Model summary"
      ]
    },
    {
      "cell_type": "code",
      "execution_count": null,
      "metadata": {},
      "outputs": [],
      "source": [
        "powdery_mildew_alerter.summary()"
      ]
    },
    {
      "cell_type": "markdown",
      "metadata": {},
      "source": [
        "## Learning curve"
      ]
    },
    {
      "cell_type": "markdown",
      "metadata": {},
      "source": [
        "Plot and save loss function and accuracy graphs"
      ]
    },
    {
      "cell_type": "code",
      "execution_count": 71,
      "metadata": {},
      "outputs": [
        {
          "data": {
            "image/png": "[encoded data removed]",
            "text/plain": [
              "<Figure size 640x480 with 1 Axes>"
            ]
          },
          "metadata": {},
          "output_type": "display_data"
        },
        {
          "data": {
            "image/png": "[encoded data removed]",
            "text/plain": [
              "<Figure size 640x480 with 1 Axes>"
            ]
          },
          "metadata": {},
          "output_type": "display_data"
        }
      ],
      "source": [
        "import pandas as pd\n",
        "from matplotlib import pyplot as plt\n",
        "from matplotlib import ticker\n",
        "\n",
        "\n",
        "data = pd.DataFrame(powdery_mildew_alerter.history.history)\n",
        "data.index += 1\n",
        "\n",
        "data[[\"loss\", \"val_loss\"]].plot()\n",
        "plt.title(\"Error (loss) function\")\n",
        "plt.legend(labels=[\"training set\", \"validation set\"])\n",
        "plt.xlabel(\"Epoch\")\n",
        "plt.gca().yaxis.set_major_formatter(ticker.FuncFormatter(lambda x, p: f\"{int(x * 100)}%\"))\n",
        "plt.savefig(working_dir + \"/outputs/images/loss_function_plot.png\")\n",
        "plt.show()\n",
        "\n",
        "data[[\"accuracy\", \"val_accuracy\"]].plot()\n",
        "plt.title(\"Accuracy\")\n",
        "plt.legend(labels=[\"training set\", \"validation set\"])\n",
        "plt.xlabel(\"Epoch\")\n",
        "plt.gca().yaxis.set_major_formatter(ticker.FuncFormatter(lambda x, p: f\"{int(x * 100)}%\"))\n",
        "plt.savefig(working_dir + \"/outputs/images/accuracy_plot.png\")\n",
        "plt.show()"
      ]
    },
    {
      "cell_type": "markdown",
      "metadata": {},
      "source": [
        "---"
      ]
    },
    {
      "cell_type": "markdown",
      "metadata": {},
      "source": [
        "# Create model predicting output functionality"
      ]
    },
    {
      "cell_type": "markdown",
      "metadata": {},
      "source": [
        "Using function from \"Data visualization\" notebook for image resize and load into array. "
      ]
    },
    {
      "cell_type": "code",
      "execution_count": 119,
      "metadata": {},
      "outputs": [],
      "source": [
        "from keras.preprocessing import image\n",
        "\n",
        "\n",
        "def load_resize_image_as_array(img_path, width, height):\n",
        "    img = image.load_img(img_path, target_size=(width, height))\n",
        "    return image.img_to_array(img) / 255\n",
        "\n",
        "\n",
        "def model_prediction_for_image(img_path):\n",
        "    img = load_resize_image_as_array(img_path, 75, 75)\n",
        "    img = np.expand_dims(img, axis=0)\n",
        "    return np.round(best_model.predict(img) * 100, 2)[0][0]\n",
        "\n",
        "\n",
        "def model_prediction_to_text(img_path):\n",
        "    result = model_prediction_for_image(img_path)\n",
        "\n",
        "    text_for_display = \"Leaf in this image \"\n",
        "    \n",
        "    if result > 50:\n",
        "        text_for_display += \"contains powdery mildew\"\n",
        "    else:\n",
        "        text_for_display += \"is healthy\"\n",
        "        result = 100-result\n",
        "\n",
        "    result_formatted = f\"{result}\".rstrip('0').rstrip('.')\n",
        "\n",
        "    return text_for_display + f\". Model is {result_formatted}% confident.\""
      ]
    },
    {
      "cell_type": "markdown",
      "metadata": {},
      "source": [
        "Test on random image. Image used here might not exist on your system."
      ]
    },
    {
      "cell_type": "code",
      "execution_count": 121,
      "metadata": {},
      "outputs": [],
      "source": [
        "# model_prediction_to_text(f\"{working_dir}/inputs/dataset/cherry-leaves/test/healthy/2fcace57-26cb-485b-aff6-dbf4bae23ceb___JR_HL 9583.JPG\")"
      ]
    },
    {
      "cell_type": "markdown",
      "metadata": {},
      "source": [
        "# Next steps"
      ]
    },
    {
      "cell_type": "markdown",
      "metadata": {},
      "source": [
        "With model that satisfies the requirement of at least 97% accuracy dashboard development can begin"
      ]
    }
  ],
  "metadata": {
    "accelerator": "GPU",
    "colab": {
      "name": "Data Practitioner Jupyter Notebook.ipynb",
      "provenance": [],
      "toc_visible": true
    },
    "kernelspec": {
      "display_name": ".venv",
      "language": "python",
      "name": "python3"
    },
    "language_info": {
      "codemirror_mode": {
        "name": "ipython",
        "version": 3
      },
      "file_extension": ".py",
      "mimetype": "text/x-python",
      "name": "python",
      "nbconvert_exporter": "python",
      "pygments_lexer": "ipython3",
      "version": "3.12.8"
    },
    "orig_nbformat": 2
  },
  "nbformat": 4,
  "nbformat_minor": 2
}
