{
  "cells": [
    {
      "cell_type": "markdown",
      "metadata": {
        "id": "0aStgWSO0E0E"
      },
      "source": [
        "# **Data preparation**"
      ]
    },
    {
      "cell_type": "markdown",
      "metadata": {
        "id": "1eLEkw5O0ECa"
      },
      "source": [
        "## Objectives\n",
        "\n",
        "* Train, validation and test datasets resized and saved as numpy arrays\n",
        "\n",
        "## Inputs\n",
        "\n",
        "* Validation and test dataset raw data\n",
        "  - inputs/dataset/cherry-leaves/validation\n",
        "  - inputs/dataset/cherry-leaves/test\n",
        "\n",
        "## Outputs\n",
        "\n",
        "* Validation dataset as numpy arrays\n",
        "  - outputs/dataset/validation_X.npy\n",
        "  - outputs/dataset/validation_y.npy\n",
        "\n",
        "* Test dataset as numpy arrays\n",
        "  - outputs/dataset/test_X.npy\n",
        "  - outputs/dataset/test_y.npy \n",
        "\n",
        "## Additional Comments\n",
        "\n",
        "* These steps ensure time saving over multiple sessions of work by avoiding repetition of lengthy data manipulation\n",
        "\n"
      ]
    },
    {
      "cell_type": "markdown",
      "metadata": {
        "id": "9uWZXH9LwoQg"
      },
      "source": [
        "---"
      ]
    },
    {
      "cell_type": "markdown",
      "metadata": {
        "id": "cqP-UeN-z3i2"
      },
      "source": [
        "# Change working directory"
      ]
    },
    {
      "cell_type": "code",
      "execution_count": null,
      "metadata": {},
      "outputs": [],
      "source": [
        "import os\n",
        "\n",
        "os.chdir(\"./..\")  # change to parent directory\n",
        "working_dir = os.getcwd()\n",
        "working_dir  # check output for correct directory"
      ]
    },
    {
      "cell_type": "markdown",
      "metadata": {},
      "source": [
        "---"
      ]
    },
    {
      "cell_type": "markdown",
      "metadata": {},
      "source": [
        "# Set directory paths"
      ]
    },
    {
      "cell_type": "code",
      "execution_count": null,
      "metadata": {},
      "outputs": [],
      "source": [
        "data_dir = working_dir + \"/inputs/dataset/cherry-leaves\"\n",
        "validation_dir = data_dir + \"/validation\"\n",
        "test_dir = data_dir + \"/test\"\n",
        "output_dataset = working_dir + \"/outputs/dataset\""
      ]
    },
    {
      "cell_type": "markdown",
      "metadata": {},
      "source": [
        "---"
      ]
    },
    {
      "cell_type": "markdown",
      "metadata": {
        "id": "-mavJ8DibrcQ"
      },
      "source": [
        "# Load images as array data"
      ]
    },
    {
      "cell_type": "markdown",
      "metadata": {},
      "source": [
        "Using created function from last notebook to resize and load into numpy arrays"
      ]
    },
    {
      "cell_type": "code",
      "execution_count": null,
      "metadata": {},
      "outputs": [],
      "source": [
        "from keras.preprocessing import image\n",
        "import numpy as np\n",
        "\n",
        "\n",
        "def load_resize_image_as_array(img_path, width, height):\n",
        "    img = image.load_img(img_path, target_size=(width, height))\n",
        "    return image.img_to_array(img) / 255\n",
        "\n",
        "\n",
        "# Remove commented lines to limit image loading to 50 images per category\n",
        "\n",
        "def images_to_array(dir, width, height):\n",
        "    X = np.array([])\n",
        "    y = np.array([])\n",
        "\n",
        "    for category in os.listdir(dir):\n",
        "        # max_images = 0\n",
        "        for img in os.listdir(dir + \"/\" + category):\n",
        "            # if max_images == 50:\n",
        "            #     break\n",
        "            #  max_images += 1\n",
        "            X = np.append(\n",
        "                    X, \n",
        "                    load_resize_image_as_array(\n",
        "                            dir + \"/\" + category + \"/\" + img,\n",
        "                            width,\n",
        "                            height\n",
        "                            )\n",
        "                ).reshape(-1, width, height, 3)\n",
        "            y = np.append(y, category)\n",
        "\n",
        "    return X, y"
      ]
    },
    {
      "cell_type": "markdown",
      "metadata": {},
      "source": [
        "Train set is already prepared and saved, do the same process for validation and test sets"
      ]
    },
    {
      "cell_type": "code",
      "execution_count": null,
      "metadata": {},
      "outputs": [],
      "source": [
        "validation_X, validation_y = images_to_array(validation_dir, 75, 75)\n",
        "test_X, test_y = images_to_array(test_dir, 75, 75)"
      ]
    },
    {
      "cell_type": "code",
      "execution_count": null,
      "metadata": {},
      "outputs": [],
      "source": [
        "np.save(\n",
        "    f\"{output_dataset}/validation_X.npy\",\n",
        "    validation_X\n",
        ")\n",
        "\n",
        "np.save(\n",
        "    f\"{output_dataset}/validation_y.npy\",\n",
        "    validation_y\n",
        ")\n",
        "\n",
        "np.save(\n",
        "    f\"{output_dataset}/test_X.npy\",\n",
        "    test_X\n",
        ")\n",
        "\n",
        "np.save(\n",
        "    f\"{output_dataset}/test_y.npy\",\n",
        "    test_y\n",
        ")"
      ]
    },
    {
      "cell_type": "markdown",
      "metadata": {
        "id": "ZY3l0-AxO93d"
      },
      "source": [
        "---"
      ]
    },
    {
      "cell_type": "markdown",
      "metadata": {},
      "source": [
        "# Next steps"
      ]
    },
    {
      "cell_type": "markdown",
      "metadata": {},
      "source": [
        "With data ready ML modelling awaits"
      ]
    }
  ],
  "metadata": {
    "accelerator": "GPU",
    "colab": {
      "name": "Data Practitioner Jupyter Notebook.ipynb",
      "provenance": [],
      "toc_visible": true
    },
    "kernelspec": {
      "display_name": ".venv",
      "language": "python",
      "name": "python3"
    },
    "language_info": {
      "codemirror_mode": {
        "name": "ipython",
        "version": 3
      },
      "file_extension": ".py",
      "mimetype": "text/x-python",
      "name": "python",
      "nbconvert_exporter": "python",
      "pygments_lexer": "ipython3",
      "version": "3.12.8"
    },
    "orig_nbformat": 2
  },
  "nbformat": 4,
  "nbformat_minor": 2
}
